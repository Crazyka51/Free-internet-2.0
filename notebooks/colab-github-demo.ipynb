{
  "cells": [
    {
      "cell_type": "markdown",
      "metadata": {
        "id": "view-in-github",
        "colab_type": "text"
      },
      "source": [
        "<a href=\"https://colab.research.google.com/github/Crazyka51/Free-internet-2.0/blob/main/notebooks/colab-github-demo.ipynb\" target=\"_parent\"><img src=\"https://colab.research.google.com/assets/colab-badge.svg\" alt=\"Open In Colab\"/></a>"
      ]
    },
    {
      "cell_type": "markdown",
      "metadata": {
        "id": "-pVhOfzLx9us"
      },
      "source": [
        "# Using Google Colab with GitHub\n",
        "\n"
      ]
    },
    {
      "cell_type": "code",
      "source": [],
      "metadata": {
        "id": "sbM21kKCPTzK"
      },
      "execution_count": null,
      "outputs": []
    },
    {
      "source": [
        "!apt-get install android-tools-adb -y"
      ],
      "cell_type": "code",
      "metadata": {
        "id": "9AUpUaWPPvuz",
        "outputId": "22808025-385a-4eab-eac2-7bccce37305d",
        "colab": {
          "base_uri": "https://localhost:8080/"
        }
      },
      "execution_count": 1,
      "outputs": [
        {
          "output_type": "stream",
          "name": "stdout",
          "text": [
            "Reading package lists... Done\n",
            "Building dependency tree... Done\n",
            "Reading state information... Done\n",
            "Note, selecting 'adb' instead of 'android-tools-adb'\n",
            "The following additional packages will be installed:\n",
            "  android-libadb android-libbase android-libboringssl android-libcrypto-utils android-libcutils\n",
            "  android-liblog android-sdk-platform-tools-common\n",
            "The following NEW packages will be installed:\n",
            "  adb android-libadb android-libbase android-libboringssl android-libcrypto-utils android-libcutils\n",
            "  android-liblog android-sdk-platform-tools-common\n",
            "0 upgraded, 8 newly installed, 0 to remove and 49 not upgraded.\n",
            "Need to get 986 kB of archives.\n",
            "After this operation, 2,995 kB of additional disk space will be used.\n",
            "Get:1 http://archive.ubuntu.com/ubuntu jammy/universe amd64 android-liblog amd64 1:10.0.0+r36-9 [42.7 kB]\n",
            "Get:2 http://archive.ubuntu.com/ubuntu jammy/universe amd64 android-libbase amd64 1:10.0.0+r36-9 [33.3 kB]\n",
            "Get:3 http://archive.ubuntu.com/ubuntu jammy/universe amd64 android-libboringssl amd64 10.0.0+r36-1 [607 kB]\n",
            "Get:4 http://archive.ubuntu.com/ubuntu jammy/universe amd64 android-libcrypto-utils amd64 1:10.0.0+r36-9 [8,306 B]\n",
            "Get:5 http://archive.ubuntu.com/ubuntu jammy/universe amd64 android-libcutils amd64 1:10.0.0+r36-9 [24.9 kB]\n",
            "Get:6 http://archive.ubuntu.com/ubuntu jammy/universe amd64 android-libadb amd64 1:10.0.0+r36-9 [164 kB]\n",
            "Get:7 http://archive.ubuntu.com/ubuntu jammy/universe amd64 android-sdk-platform-tools-common all 28.0.2+6 [7,172 B]\n",
            "Get:8 http://archive.ubuntu.com/ubuntu jammy/universe amd64 adb amd64 1:10.0.0+r36-9 [98.7 kB]\n",
            "Fetched 986 kB in 1s (1,122 kB/s)\n",
            "Selecting previously unselected package android-liblog.\n",
            "(Reading database ... 123635 files and directories currently installed.)\n",
            "Preparing to unpack .../0-android-liblog_1%3a10.0.0+r36-9_amd64.deb ...\n",
            "Unpacking android-liblog (1:10.0.0+r36-9) ...\n",
            "Selecting previously unselected package android-libbase.\n",
            "Preparing to unpack .../1-android-libbase_1%3a10.0.0+r36-9_amd64.deb ...\n",
            "Unpacking android-libbase (1:10.0.0+r36-9) ...\n",
            "Selecting previously unselected package android-libboringssl.\n",
            "Preparing to unpack .../2-android-libboringssl_10.0.0+r36-1_amd64.deb ...\n",
            "Unpacking android-libboringssl (10.0.0+r36-1) ...\n",
            "Selecting previously unselected package android-libcrypto-utils.\n",
            "Preparing to unpack .../3-android-libcrypto-utils_1%3a10.0.0+r36-9_amd64.deb ...\n",
            "Unpacking android-libcrypto-utils (1:10.0.0+r36-9) ...\n",
            "Selecting previously unselected package android-libcutils.\n",
            "Preparing to unpack .../4-android-libcutils_1%3a10.0.0+r36-9_amd64.deb ...\n",
            "Unpacking android-libcutils (1:10.0.0+r36-9) ...\n",
            "Selecting previously unselected package android-libadb.\n",
            "Preparing to unpack .../5-android-libadb_1%3a10.0.0+r36-9_amd64.deb ...\n",
            "Unpacking android-libadb (1:10.0.0+r36-9) ...\n",
            "Selecting previously unselected package android-sdk-platform-tools-common.\n",
            "Preparing to unpack .../6-android-sdk-platform-tools-common_28.0.2+6_all.deb ...\n",
            "Unpacking android-sdk-platform-tools-common (28.0.2+6) ...\n",
            "Selecting previously unselected package adb.\n",
            "Preparing to unpack .../7-adb_1%3a10.0.0+r36-9_amd64.deb ...\n",
            "Unpacking adb (1:10.0.0+r36-9) ...\n",
            "Setting up android-sdk-platform-tools-common (28.0.2+6) ...\n",
            "Setting up android-liblog (1:10.0.0+r36-9) ...\n",
            "Setting up android-libboringssl (10.0.0+r36-1) ...\n",
            "Setting up android-libcrypto-utils (1:10.0.0+r36-9) ...\n",
            "Setting up android-libbase (1:10.0.0+r36-9) ...\n",
            "Setting up android-libcutils (1:10.0.0+r36-9) ...\n",
            "Setting up android-libadb (1:10.0.0+r36-9) ...\n",
            "Setting up adb (1:10.0.0+r36-9) ...\n",
            "Processing triggers for man-db (2.10.2-1) ...\n",
            "Processing triggers for libc-bin (2.35-0ubuntu3.4) ...\n",
            "/sbin/ldconfig.real: /usr/local/lib/libur_adapter_opencl.so.0 is not a symbolic link\n",
            "\n",
            "/sbin/ldconfig.real: /usr/local/lib/libtbbmalloc.so.2 is not a symbolic link\n",
            "\n",
            "/sbin/ldconfig.real: /usr/local/lib/libur_loader.so.0 is not a symbolic link\n",
            "\n",
            "/sbin/ldconfig.real: /usr/local/lib/libumf.so.0 is not a symbolic link\n",
            "\n",
            "/sbin/ldconfig.real: /usr/local/lib/libtcm.so.1 is not a symbolic link\n",
            "\n",
            "/sbin/ldconfig.real: /usr/local/lib/libtbb.so.12 is not a symbolic link\n",
            "\n",
            "/sbin/ldconfig.real: /usr/local/lib/libtbbbind_2_0.so.3 is not a symbolic link\n",
            "\n",
            "/sbin/ldconfig.real: /usr/local/lib/libtcm_debug.so.1 is not a symbolic link\n",
            "\n",
            "/sbin/ldconfig.real: /usr/local/lib/libur_adapter_level_zero.so.0 is not a symbolic link\n",
            "\n",
            "/sbin/ldconfig.real: /usr/local/lib/libtbbbind_2_5.so.3 is not a symbolic link\n",
            "\n",
            "/sbin/ldconfig.real: /usr/local/lib/libtbbbind.so.3 is not a symbolic link\n",
            "\n",
            "/sbin/ldconfig.real: /usr/local/lib/libhwloc.so.15 is not a symbolic link\n",
            "\n",
            "/sbin/ldconfig.real: /usr/local/lib/libtbbmalloc_proxy.so.2 is not a symbolic link\n",
            "\n"
          ]
        }
      ]
    },
    {
      "source": [
        "!git clone https://github.com/caroli-magni/gpstracker.git\n"
      ],
      "cell_type": "code",
      "metadata": {
        "id": "JX5Vtfd9QINy",
        "outputId": "7eb146cf-c604-4336-bd60-83a03568c2a7",
        "colab": {
          "base_uri": "https://localhost:8080/"
        }
      },
      "execution_count": 3,
      "outputs": [
        {
          "output_type": "stream",
          "name": "stdout",
          "text": [
            "Cloning into 'gpstracker'...\n",
            "remote: Enumerating objects: 57, done.\u001b[K\n",
            "remote: Counting objects: 100% (57/57), done.\u001b[K\n",
            "remote: Compressing objects: 100% (48/48), done.\u001b[K\n",
            "remote: Total 57 (delta 6), reused 46 (delta 0), pack-reused 0 (from 0)\u001b[K\n",
            "Receiving objects: 100% (57/57), 89.28 KiB | 725.00 KiB/s, done.\n",
            "Resolving deltas: 100% (6/6), done.\n"
          ]
        }
      ]
    },
    {
      "cell_type": "code",
      "source": [
        "whereim"
      ],
      "metadata": {
        "id": "TdCheEQKQ8-B"
      },
      "execution_count": null,
      "outputs": []
    },
    {
      "source": [
        "!cd gpstracker\n",
        "\n"
      ],
      "cell_type": "code",
      "metadata": {
        "id": "6ByXlSNrRCRs"
      },
      "execution_count": 11,
      "outputs": []
    },
    {
      "source": [
        "!ls"
      ],
      "cell_type": "code",
      "metadata": {
        "id": "eg71nSDvRadu",
        "outputId": "5aa55009-4f6b-453a-cee3-392d3d29145d",
        "colab": {
          "base_uri": "https://localhost:8080/"
        }
      },
      "execution_count": 12,
      "outputs": [
        {
          "output_type": "stream",
          "name": "stdout",
          "text": [
            " gpstracker   sample_data  'Untitled Folder'\n"
          ]
        }
      ]
    },
    {
      "source": [
        "!cd /content/gpstracker"
      ],
      "cell_type": "code",
      "metadata": {
        "id": "Jt6nw19zRkZT"
      },
      "execution_count": 15,
      "outputs": []
    },
    {
      "source": [
        "!pwd"
      ],
      "cell_type": "code",
      "metadata": {
        "id": "KYNvsfVQRmWf",
        "outputId": "8a01b34c-3b9b-4794-92ac-50b1dcddc50a",
        "colab": {
          "base_uri": "https://localhost:8080/"
        }
      },
      "execution_count": 16,
      "outputs": [
        {
          "output_type": "stream",
          "name": "stdout",
          "text": [
            "/content\n"
          ]
        }
      ]
    }
  ],
  "metadata": {
    "colab": {
      "name": "colab-github-demo.ipynb",
      "provenance": [],
      "history_visible": true,
      "include_colab_link": true
    },
    "kernelspec": {
      "display_name": "Python 3",
      "name": "python3"
    }
  },
  "nbformat": 4,
  "nbformat_minor": 0
}